{
 "cells": [
  {
   "cell_type": "code",
   "execution_count": 1,
   "metadata": {},
   "outputs": [
    {
     "name": "stdout",
     "output_type": "stream",
     "text": [
      "Enter the first number: 6\n",
      "Enter the second number:4\n",
      "6\n",
      "4\n"
     ]
    }
   ],
   "source": [
    "num1 = input(\"Enter the first number: \")\n",
    "num2 = input(\"Enter the second number:\")\n",
    "print(num1)\n",
    "print(num2)"
   ]
  },
  {
   "cell_type": "code",
   "execution_count": 2,
   "metadata": {},
   "outputs": [
    {
     "name": "stdout",
     "output_type": "stream",
     "text": [
      "Enter the first number: 6\n",
      "Enter the second number:6\n",
      "Enter which operation would you like to perform?\n",
      "Enter any of these char for specific operation 1,2,3,4: 1\n",
      "6 1 6 : 12\n"
     ]
    }
   ],
   "source": [
    "num1 = int(input(\"Enter the first number: \"))\n",
    "num2 = int(input(\"Enter the second number:\"))\n",
    "\n",
    "print(\"Enter which operation would you like to perform?\")\n",
    "ch = input(\"Enter any of these char for specific operation 1,2,3,4: \")\n",
    "\n",
    "result = 0\n",
    "if ch == '1':\n",
    "    result = num1 + num2\n",
    "elif ch == '2':\n",
    "    result = num1 - num2\n",
    "elif ch == '3':\n",
    "    result = num1 * num2\n",
    "elif ch == '4':\n",
    "    result = num1 / num2\n",
    "else:\n",
    "    print(\"Input character is not recognized!\")\n",
    "\n",
    "print(num1, ch , num2, \":\", result)\n"
   ]
  },
  {
   "cell_type": "code",
   "execution_count": 6,
   "metadata": {},
   "outputs": [
    {
     "name": "stdout",
     "output_type": "stream",
     "text": [
      "Enter the first number: 6\n",
      "Enter the second number:6\n",
      "Enter which operation would you like to perform?\n",
      "Enter any of these char for specific operation 1 = sum,2 = sub,3 = multiple,4 = division: 1\n",
      "Input character is not recognized!\n",
      "6 1 6 : 0\n"
     ]
    }
   ],
   "source": [
    "#Ask 2 numbers from users and store it in num1 and num2\n",
    "#Ask user to press 1 for addition,2 for subtraction,3 for multiplication and 4 for division\n",
    "#based on number given by user do the math operation\n",
    "num1 = int(input(\"Enter the first number: \"))\n",
    "num2 = int(input(\"Enter the second number:\"))\n",
    "\n",
    "print(\"Based on the number given by user do the math operation?:\")\n",
    "ch = input(\"Enter any of these char for specific operation 1 = sum,2 = sub,3 = multiple,4 = division: \")\n",
    "\n",
    "result = 0\n",
    "if ch == '1':\n",
    "    result = num1 + num2\n",
    "elif ch == '2':\n",
    "    result = num1 - num2\n",
    "elif ch == '3':\n",
    "    result = num1 * num2\n",
    "elif ch == '4':\n",
    "    result = num1 / num2\n",
    "else:\n",
    "    print(\"Input character is not recognized!\")\n",
    "\n",
    "print(num1, ch , num2, \":\", result)\n",
    "\n",
    "\n"
   ]
  },
  {
   "cell_type": "code",
   "execution_count": null,
   "metadata": {},
   "outputs": [],
   "source": []
  },
  {
   "cell_type": "code",
   "execution_count": null,
   "metadata": {},
   "outputs": [],
   "source": []
  },
  {
   "cell_type": "code",
   "execution_count": null,
   "metadata": {},
   "outputs": [],
   "source": []
  }
 ],
 "metadata": {
  "kernelspec": {
   "display_name": "Python 3",
   "language": "python",
   "name": "python3"
  },
  "language_info": {
   "codemirror_mode": {
    "name": "ipython",
    "version": 3
   },
   "file_extension": ".py",
   "mimetype": "text/x-python",
   "name": "python",
   "nbconvert_exporter": "python",
   "pygments_lexer": "ipython3",
   "version": "3.7.6"
  }
 },
 "nbformat": 4,
 "nbformat_minor": 4
}
