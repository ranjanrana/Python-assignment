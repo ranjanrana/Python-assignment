{
 "cells": [
  {
   "cell_type": "code",
   "execution_count": 1,
   "metadata": {},
   "outputs": [
    {
     "name": "stdout",
     "output_type": "stream",
     "text": [
      "Does to exists in the string \n",
      "Yes, String found\n"
     ]
    }
   ],
   "source": [
    "# For search a string \n",
    "# for substring \n",
    "print (\"Does to exists in the string \") \n",
    "str = \"Welcome to Python\"\n",
    "if \"to\" in str : \n",
    "    print (\"Yes, String found\") \n",
    "else :  \n",
    "    print (\"No, String not found\") "
   ]
  },
  {
   "cell_type": "code",
   "execution_count": null,
   "metadata": {},
   "outputs": [],
   "source": []
  }
 ],
 "metadata": {
  "kernelspec": {
   "display_name": "Python 3",
   "language": "python",
   "name": "python3"
  },
  "language_info": {
   "codemirror_mode": {
    "name": "ipython",
    "version": 3
   },
   "file_extension": ".py",
   "mimetype": "text/x-python",
   "name": "python",
   "nbconvert_exporter": "python",
   "pygments_lexer": "ipython3",
   "version": "3.7.6"
  }
 },
 "nbformat": 4,
 "nbformat_minor": 4
}
